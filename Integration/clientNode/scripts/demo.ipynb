{
 "cells": [
  {
   "cell_type": "code",
   "execution_count": 7,
   "metadata": {},
   "outputs": [],
   "source": [
    "import os\n",
    "import subprocess\n",
    "import json\n",
    "import base64\n",
    "from dotenv import load_dotenv\n",
    "\n",
    "\n",
    "\n",
    "\n",
    "def file_reader(file_name):\n",
    "    with open(file_name) as f:\n",
    "        lines = f.readlines()\n",
    "        return lines\n",
    "def helper(out):\n",
    "    return out.split(\":\")[-1].split(\"}\")[0]\n",
    "data = file_reader(\"taskPID.txt\")\n",
    "parsed_data = []\n",
    "for i in range(len(data)):\n",
    "    if data[i] != \"\\n\":\n",
    "        parsed_data.append(data[i].replace(\"\\n\",\"\"))"
   ]
  },
  {
   "cell_type": "code",
   "execution_count": 12,
   "metadata": {},
   "outputs": [
    {
     "data": {
      "text/plain": [
       "5093"
      ]
     },
     "execution_count": 12,
     "metadata": {},
     "output_type": "execute_result"
    }
   ],
   "source": [
    "out=json.loads(parsed_data[1])\n",
    "out[\"return\"][\"pid\"]"
   ]
  },
  {
   "cell_type": "code",
   "execution_count": 21,
   "metadata": {},
   "outputs": [
    {
     "name": "stdout",
     "output_type": "stream",
     "text": [
      "vm1 {\"return\":{\"pid\":5093}}\n",
      "vm1 {\"execute\": \"guest-exec-status\", \"arguments\": {\"pid\": 5093 } } 5093\n",
      "vm2 {\"return\":{\"pid\":8003}}\n",
      "vm2 {\"execute\": \"guest-exec-status\", \"arguments\": {\"pid\": 8003 } } 8003\n"
     ]
    }
   ],
   "source": [
    "tasks = {}\n",
    "results = {}\n",
    "results[\"taskRes\"] = []\n",
    "vmName_list=[]\n",
    "for i in range(0, len(parsed_data)-1, 2):\n",
    "    command = '{\"execute\": \"guest-exec-status\", \"arguments\": {\"pid\": ****** } }'\n",
    "    print(parsed_data[i], parsed_data[i+1])\n",
    "    pid_dict=json.loads(parsed_data[i+1])\n",
    "    pid=pid_dict[\"return\"][\"pid\"]\n",
    "    vmName=parsed_data[i]\n",
    "    vmName_list.append(vmName)\n",
    "    os.environ['vm_name'] = vmName\n",
    "    os.environ['pid'] = str(pid)\n",
    "    command = command.replace(\"******\", str(pid))\n",
    "    os.environ['command'] = command\n",
    "    print(vmName, command, pid)\n",
    "    rc = subprocess.call(\"./resultCheckScript.sh\")\n",
    "\n",
    "data = file_reader(\"./scripts/tasksOutput.txt\")\n",
    "output_file = []\n",
    "for i in range(len(data)):\n",
    "    if data[i] != \"\\n\":\n",
    "        output_file.append(data[i].replace(\"\\n\",\"\"))\n",
    "vm_num=0\n",
    "for output_data in output_file:\n",
    "    result={}\n",
    "    out = json.loads(output_data)\n",
    "    a=out[\"return\"][\"out-data\"]\n",
    "    base64_message = a\n",
    "    base64_bytes = base64_message.encode('ascii')\n",
    "    message_bytes = base64.b64decode(base64_bytes)\n",
    "    message = message_bytes.decode('ascii')\n",
    "    output = message.split(\"\\n\")\n",
    "    starting_time = output[0].split(\" at \")[1]\n",
    "    ending_time = output[1].split(\" at \")[1]\n",
    "    result[\"vmName\"]=vmName_list[vm_num]\n",
    "    vm_num+=1\n",
    "    result[\"output\"] = a\n",
    "    result[\"taskStartedAt\"] = starting_time\n",
    "    result[\"taskFinishedAt\"] = ending_time\n",
    "    results[\"taskRes\"].append(result)\n"
   ]
  },
  {
   "cell_type": "code",
   "execution_count": 23,
   "metadata": {},
   "outputs": [],
   "source": [
    "\n"
   ]
  },
  {
   "cell_type": "code",
   "execution_count": 24,
   "metadata": {},
   "outputs": [
    {
     "data": {
      "text/plain": [
       "['\\n',\n",
       " '{\"return\":{\"exitcode\":0,\"out-data\":\"U3RhcnRpbmcgdGhlIHRhc2sgZm9yIE1hdHJpeCBNdWx0aXBsaWNhdGlvbiBvZiAyNTYgKiAyNTYgYXQgMjAyMy0wNC0yMyAwNDoyMTowMS4yMDE5MzkKQ29tcGxldGVkIHRoZSB0YXNrIGZvciBNYXRyaXggTXVsdGlwbGljYXRpb24gb2YgMjU2ICogMjU2IGF0IDIwMjMtMDQtMjMgMDQ6MjE6MDcuMTc4MDEyCg==\",\"exited\":true}}\\n',\n",
       " '\\n',\n",
       " '{\"return\":{\"exitcode\":0,\"out-data\":\"U3RhcnRpbmcgdGhlIHRhc2sgZm9yIE1hdHJpeCBNdWx0aXBsaWNhdGlvbiBvZiAyNTYgKiAyNTYgYXQgMjAyMy0wNC0yMyAwNDoyMToxMi4xOTI3MzQKQ29tcGxldGVkIHRoZSB0YXNrIGZvciBNYXRyaXggTXVsdGlwbGljYXRpb24gb2YgMjU2ICogMjU2IGF0IDIwMjMtMDQtMjMgMDQ6MjE6MTguMjE2NjgwCg==\",\"exited\":true}}\\n',\n",
       " '\\n']"
      ]
     },
     "execution_count": 24,
     "metadata": {},
     "output_type": "execute_result"
    }
   ],
   "source": [
    "data"
   ]
  },
  {
   "cell_type": "code",
   "execution_count": 25,
   "metadata": {},
   "outputs": [],
   "source": [
    "output_data = []\n",
    "for i in range(len(data)):\n",
    "    if data[i] != \"\\n\":\n",
    "        output_data.append(data[i].replace(\"\\n\",\"\"))"
   ]
  },
  {
   "cell_type": "code",
   "execution_count": 28,
   "metadata": {},
   "outputs": [],
   "source": [
    "output_data\n",
    "out = json.loads(output_data[0])"
   ]
  },
  {
   "cell_type": "code",
   "execution_count": 35,
   "metadata": {},
   "outputs": [],
   "source": [
    "result={}\n",
    "a=out[\"return\"][\"out-data\"]\n",
    "base64_message = a\n",
    "base64_bytes = base64_message.encode('ascii')\n",
    "message_bytes = base64.b64decode(base64_bytes)\n",
    "message = message_bytes.decode('ascii')\n",
    "output = message.split(\"\\n\")\n",
    "starting_time = output[0].split(\" at \")[1]\n",
    "ending_time = output[1].split(\" at \")[1]\n",
    "result[\"output\"] = a\n",
    "result[\"taskStartedAt\"] = starting_time\n",
    "result[\"taskFinishedAt\"] = ending_time\n",
    "results[\"taskRes\"].append(result)"
   ]
  },
  {
   "cell_type": "code",
   "execution_count": 34,
   "metadata": {},
   "outputs": [
    {
     "data": {
      "text/plain": [
       "{'output': 'U3RhcnRpbmcgdGhlIHRhc2sgZm9yIE1hdHJpeCBNdWx0aXBsaWNhdGlvbiBvZiAyNTYgKiAyNTYgYXQgMjAyMy0wNC0yMyAwNDoyMTowMS4yMDE5MzkKQ29tcGxldGVkIHRoZSB0YXNrIGZvciBNYXRyaXggTXVsdGlwbGljYXRpb24gb2YgMjU2ICogMjU2IGF0IDIwMjMtMDQtMjMgMDQ6MjE6MDcuMTc4MDEyCg==',\n",
       " 'taskStartedAt': '2023-04-23 04:21:01.201939',\n",
       " 'taskFinishedAt': '2023-04-23 04:21:07.178012'}"
      ]
     },
     "execution_count": 34,
     "metadata": {},
     "output_type": "execute_result"
    }
   ],
   "source": [
    "result"
   ]
  },
  {
   "cell_type": "code",
   "execution_count": null,
   "metadata": {},
   "outputs": [],
   "source": [
    "a = out[\"out-data\"]\n",
    "base64_message = a\n",
    "base64_bytes = base64_message.encode('ascii')\n",
    "message_bytes = base64.b64decode(base64_bytes)\n",
    "message = message_bytes.decode('ascii')\n",
    "output = message.split(\"\\n\")\n",
    "starting_time = output[0].split(\" at \")[1]\n",
    "ending_time = output[1].split(\" at \")[1]\n",
    "result[\"output\"] = data[0].rstrip('\\n')\n",
    "result[\"taskStartedAt\"] = starting_time\n",
    "result[\"taskFinishedAt\"] = ending_time\n",
    "results[\"taskRes\"].append(result)"
   ]
  },
  {
   "cell_type": "code",
   "execution_count": null,
   "metadata": {},
   "outputs": [],
   "source": [
    "tasks = {}\n",
    "results = {}\n",
    "results[\"taskRes\"] = []\n",
    "command = '{\"execute\": \"guest-exec-status\", \"arguments\": {\"pid\": ****** } }'\n",
    "for i in range(0, len(parsed_data)-1, 2):\n",
    "    print(parsed_data[i], parsed_data[i+1])\n",
    "    pid_dict=json.loads(parsed_data[i+1])\n",
    "    pid=pid_dict[\"return\"][\"pid\"]\n",
    "    vmName=parsed_data[i]\n",
    "    os.environ['vm_name'] = vmName\n",
    "    os.environ['pid'] = pid\n",
    "    command = command.replace(\"******\", str(pid))\n",
    "    os.environ['command'] = command\n",
    "    print(vmName, command, pid)\n",
    "    rc = subprocess.call(\"./scripts/resultCheckScript.sh\")\n",
    "    result = {}\n",
    "    result[\"vmName\"] = vmName.rstrip('\\n')\n",
    "    data = file_reader(\"./scripts/tasksOutput.txt\")\n",
    "    print(data)\n",
    "    output = data[0].rstrip('\\n')\n",
    "    output = output[10:]\n",
    "    output = output[:-2]\n",
    "    try:\n",
    "        out = json.loads(output)\n",
    "    except:\n",
    "        output = output+\"}\"\n",
    "        out = json.loads(output)\n",
    "    a = out[\"out-data\"]\n",
    "    base64_message = a\n",
    "    base64_bytes = base64_message.encode('ascii')\n",
    "    message_bytes = base64.b64decode(base64_bytes)\n",
    "    message = message_bytes.decode('ascii')\n",
    "    output = message.split(\"\\n\")\n",
    "    starting_time = output[0].split(\" at \")[1]\n",
    "    ending_time = output[1].split(\" at \")[1]\n",
    "    result[\"output\"] = data[0].rstrip('\\n')\n",
    "    result[\"taskStartedAt\"] = starting_time\n",
    "    result[\"taskFinishedAt\"] = ending_time\n",
    "    results[\"taskRes\"].append(result)\n"
   ]
  },
  {
   "cell_type": "code",
   "execution_count": null,
   "metadata": {},
   "outputs": [],
   "source": [
    "with open(\"./scripts/results.json\", \"a\") as outfile:\n",
    "    json.dump(results, outfile)\n",
    "print(results)"
   ]
  },
  {
   "cell_type": "code",
   "execution_count": null,
   "metadata": {},
   "outputs": [],
   "source": [
    "import json\n",
    "import re\n",
    "import socket\n",
    "import os\n",
    "hostname = socket.gethostname()\n",
    "\n",
    "s = socket.socket(socket.AF_INET, socket.SOCK_DGRAM)\n",
    "s.connect(('10.0.0.0', 0))\n",
    "IPAddr = s.getsockname()[0]\n",
    "s.close()\n",
    "\n",
    "\n",
    "def file_reader(file_name):\n",
    "    with open(file_name) as f:\n",
    "        lines = f.readlines()\n",
    "        return lines\n",
    "\n",
    "\n",
    "def vm_specifications(data, pid):\n",
    "    for line in data:\n",
    "        if line.find(\"libvirt+\") != -1 and line.find(\"qemu-sy\") != -1 and line.find(pid) != -1:\n",
    "            i = line.split()\n",
    "            return i[8], i[9]\n",
    "    \n",
    "\n",
    "\n",
    "def host_specifications(data):\n",
    "    host = []\n",
    "    host_specs = {}\n",
    "\n",
    "    for line in data:\n",
    "        if line.find(\"MiB Mem\") != -1:\n",
    "            host.append(line.split())\n",
    "    for i in host:\n",
    "        host_specs['Total Memory Usage'] = float(total_mem)\n",
    "        host_specs['CPU Usage'] = float(cpu_usage)\n",
    "        host_specs['IP'] = str(IPAddr)\n",
    "    return host_specs\n",
    "\n",
    "\n",
    "vm_pid = file_reader(\"name.txt\")\n",
    "vm_names = file_reader(\"vm_name.txt\")\n",
    "names = []\n",
    "pid_list = []\n",
    "for i in vm_pid:\n",
    "    if i.find('booted') != -1:\n",
    "        a = i.split(\"'\")\n",
    "        pid_list.append(a[len(a)-2])\n",
    "\n",
    "for i in vm_names:\n",
    "    names.append(i.rstrip('\\n'))\n",
    "\n",
    "names,pid_list\n",
    "data = file_reader(\"top.txt\")\n",
    "final_dict = {}\n",
    "final_dict[\"VMS\"] = []\n",
    "total_mem = 0\n",
    "for pid in range(len(pid_list)):\n",
    "    vm_cpu, vm_mem = vm_specifications(data, pid_list[pid])\n",
    "    vm_info = {}\n",
    "    vm_info[\"pid\"] = int(pid_list[pid])\n",
    "    vm_info[\"name\"] = names[pid]\n",
    "    vm_info['vm_cpu'] = float(vm_cpu)\n",
    "    vm_info['vm_mem'] = float(vm_mem)\n",
    "    total_mem += float(vm_mem)  # total_mem ko max of vm_mem define kr dena bro. Add mat krna vm_mems ko\n",
    "    final_dict[\"VMS\"].append(vm_info)\n",
    "cpu_data = file_reader(\"./scripts/cpu.txt\")\n",
    "\n",
    "cpu_usage = float(cpu_data[0].split(\"%\")[0])\n",
    "host_specs = host_specifications(data)\n",
    "\n",
    "final_dict['host_specs'] = host_specs\n",
    "\n",
    "with open(\"./scripts/host_info.json\", \"w+\") as outfile:\n",
    "    json.dump(final_dict, outfile)"
   ]
  }
 ],
 "metadata": {
  "kernelspec": {
   "display_name": "Python 3",
   "language": "python",
   "name": "python3"
  },
  "language_info": {
   "codemirror_mode": {
    "name": "ipython",
    "version": 3
   },
   "file_extension": ".py",
   "mimetype": "text/x-python",
   "name": "python",
   "nbconvert_exporter": "python",
   "pygments_lexer": "ipython3",
   "version": "3.10.6"
  },
  "orig_nbformat": 4
 },
 "nbformat": 4,
 "nbformat_minor": 2
}
