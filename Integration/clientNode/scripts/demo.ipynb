{
 "cells": [
  {
   "cell_type": "code",
   "execution_count": 7,
   "metadata": {},
   "outputs": [],
   "source": [
    "import os\n",
    "import subprocess\n",
    "import json\n",
    "import base64\n",
    "from dotenv import load_dotenv\n",
    "\n",
    "\n",
    "\n",
    "\n",
    "def file_reader(file_name):\n",
    "    with open(file_name) as f:\n",
    "        lines = f.readlines()\n",
    "        return lines\n",
    "def helper(out):\n",
    "    return out.split(\":\")[-1].split(\"}\")[0]\n",
    "data = file_reader(\"taskPID.txt\")\n",
    "parsed_data = []\n",
    "for i in range(len(data)):\n",
    "    if data[i] != \"\\n\":\n",
    "        parsed_data.append(data[i].replace(\"\\n\",\"\"))"
   ]
  },
  {
   "cell_type": "code",
   "execution_count": 12,
   "metadata": {},
   "outputs": [
    {
     "data": {
      "text/plain": [
       "5093"
      ]
     },
     "execution_count": 12,
     "metadata": {},
     "output_type": "execute_result"
    }
   ],
   "source": [
    "out=json.loads(parsed_data[1])\n",
    "out[\"return\"][\"pid\"]"
   ]
  },
  {
   "cell_type": "code",
   "execution_count": 21,
   "metadata": {},
   "outputs": [
    {
     "name": "stdout",
     "output_type": "stream",
     "text": [
      "vm1 {\"return\":{\"pid\":5093}}\n",
      "vm1 {\"execute\": \"guest-exec-status\", \"arguments\": {\"pid\": 5093 } } 5093\n",
      "vm2 {\"return\":{\"pid\":8003}}\n",
      "vm2 {\"execute\": \"guest-exec-status\", \"arguments\": {\"pid\": 8003 } } 8003\n"
     ]
    }
   ],
   "source": [
    "tasks = {}\n",
    "results = {}\n",
    "results[\"taskRes\"] = []\n",
    "vmName_list=[]\n",
    "for i in range(0, len(parsed_data)-1, 2):\n",
    "    command = '{\"execute\": \"guest-exec-status\", \"arguments\": {\"pid\": ****** } }'\n",
    "    print(parsed_data[i], parsed_data[i+1])\n",
    "    pid_dict=json.loads(parsed_data[i+1])\n",
    "    pid=pid_dict[\"return\"][\"pid\"]\n",
    "    vmName=parsed_data[i]\n",
    "    vmName_list.append(vmName)\n",
    "    os.environ['vm_name'] = vmName\n",
    "    os.environ['pid'] = str(pid)\n",
    "    command = command.replace(\"******\", str(pid))\n",
    "    os.environ['command'] = command\n",
    "    print(vmName, command, pid)\n",
    "    rc = subprocess.call(\"./resultCheckScript.sh\")\n",
    "\n",
    "data = file_reader(\"./scripts/tasksOutput.txt\")\n",
    "output_file = []\n",
    "for i in range(len(data)):\n",
    "    if data[i] != \"\\n\":\n",
    "        output_file.append(data[i].replace(\"\\n\",\"\"))\n",
    "vm_num=0\n",
    "for output_data in output_file:\n",
    "    result={}\n",
    "    out = json.loads(output_data)\n",
    "    a=out[\"return\"][\"out-data\"]\n",
    "    base64_message = a\n",
    "    base64_bytes = base64_message.encode('ascii')\n",
    "    message_bytes = base64.b64decode(base64_bytes)\n",
    "    message = message_bytes.decode('ascii')\n",
    "    output = message.split(\"\\n\")\n",
    "    starting_time = output[0].split(\" at \")[1]\n",
    "    ending_time = output[1].split(\" at \")[1]\n",
    "    result[\"vmName\"]=vmName_list[vm_num]\n",
    "    vm_num+=1\n",
    "    result[\"output\"] = a\n",
    "    result[\"taskStartedAt\"] = starting_time\n",
    "    result[\"taskFinishedAt\"] = ending_time\n",
    "    results[\"taskRes\"].append(result)\n"
   ]
  },
  {
   "cell_type": "code",
   "execution_count": 23,
   "metadata": {},
   "outputs": [],
   "source": [
    "\n"
   ]
  },
  {
   "cell_type": "code",
   "execution_count": 24,
   "metadata": {},
   "outputs": [
    {
     "data": {
      "text/plain": [
       "['\\n',\n",
       " '{\"return\":{\"exitcode\":0,\"out-data\":\"U3RhcnRpbmcgdGhlIHRhc2sgZm9yIE1hdHJpeCBNdWx0aXBsaWNhdGlvbiBvZiAyNTYgKiAyNTYgYXQgMjAyMy0wNC0yMyAwNDoyMTowMS4yMDE5MzkKQ29tcGxldGVkIHRoZSB0YXNrIGZvciBNYXRyaXggTXVsdGlwbGljYXRpb24gb2YgMjU2ICogMjU2IGF0IDIwMjMtMDQtMjMgMDQ6MjE6MDcuMTc4MDEyCg==\",\"exited\":true}}\\n',\n",
       " '\\n',\n",
       " '{\"return\":{\"exitcode\":0,\"out-data\":\"U3RhcnRpbmcgdGhlIHRhc2sgZm9yIE1hdHJpeCBNdWx0aXBsaWNhdGlvbiBvZiAyNTYgKiAyNTYgYXQgMjAyMy0wNC0yMyAwNDoyMToxMi4xOTI3MzQKQ29tcGxldGVkIHRoZSB0YXNrIGZvciBNYXRyaXggTXVsdGlwbGljYXRpb24gb2YgMjU2ICogMjU2IGF0IDIwMjMtMDQtMjMgMDQ6MjE6MTguMjE2NjgwCg==\",\"exited\":true}}\\n',\n",
       " '\\n']"
      ]
     },
     "execution_count": 24,
     "metadata": {},
     "output_type": "execute_result"
    }
   ],
   "source": [
    "data"
   ]
  },
  {
   "cell_type": "code",
   "execution_count": 25,
   "metadata": {},
   "outputs": [],
   "source": [
    "output_data = []\n",
    "for i in range(len(data)):\n",
    "    if data[i] != \"\\n\":\n",
    "        output_data.append(data[i].replace(\"\\n\",\"\"))"
   ]
  },
  {
   "cell_type": "code",
   "execution_count": 28,
   "metadata": {},
   "outputs": [],
   "source": [
    "output_data\n",
    "out = json.loads(output_data[0])"
   ]
  },
  {
   "cell_type": "code",
   "execution_count": 35,
   "metadata": {},
   "outputs": [],
   "source": [
    "result={}\n",
    "a=out[\"return\"][\"out-data\"]\n",
    "base64_message = a\n",
    "base64_bytes = base64_message.encode('ascii')\n",
    "message_bytes = base64.b64decode(base64_bytes)\n",
    "message = message_bytes.decode('ascii')\n",
    "output = message.split(\"\\n\")\n",
    "starting_time = output[0].split(\" at \")[1]\n",
    "ending_time = output[1].split(\" at \")[1]\n",
    "result[\"output\"] = a\n",
    "result[\"taskStartedAt\"] = starting_time\n",
    "result[\"taskFinishedAt\"] = ending_time\n",
    "results[\"taskRes\"].append(result)"
   ]
  },
  {
   "cell_type": "code",
   "execution_count": 34,
   "metadata": {},
   "outputs": [
    {
     "data": {
      "text/plain": [
       "{'output': 'U3RhcnRpbmcgdGhlIHRhc2sgZm9yIE1hdHJpeCBNdWx0aXBsaWNhdGlvbiBvZiAyNTYgKiAyNTYgYXQgMjAyMy0wNC0yMyAwNDoyMTowMS4yMDE5MzkKQ29tcGxldGVkIHRoZSB0YXNrIGZvciBNYXRyaXggTXVsdGlwbGljYXRpb24gb2YgMjU2ICogMjU2IGF0IDIwMjMtMDQtMjMgMDQ6MjE6MDcuMTc4MDEyCg==',\n",
       " 'taskStartedAt': '2023-04-23 04:21:01.201939',\n",
       " 'taskFinishedAt': '2023-04-23 04:21:07.178012'}"
      ]
     },
     "execution_count": 34,
     "metadata": {},
     "output_type": "execute_result"
    }
   ],
   "source": [
    "result"
   ]
  },
  {
   "cell_type": "code",
   "execution_count": null,
   "metadata": {},
   "outputs": [],
   "source": [
    "a = out[\"out-data\"]\n",
    "base64_message = a\n",
    "base64_bytes = base64_message.encode('ascii')\n",
    "message_bytes = base64.b64decode(base64_bytes)\n",
    "message = message_bytes.decode('ascii')\n",
    "output = message.split(\"\\n\")\n",
    "starting_time = output[0].split(\" at \")[1]\n",
    "ending_time = output[1].split(\" at \")[1]\n",
    "result[\"output\"] = data[0].rstrip('\\n')\n",
    "result[\"taskStartedAt\"] = starting_time\n",
    "result[\"taskFinishedAt\"] = ending_time\n",
    "results[\"taskRes\"].append(result)"
   ]
  },
  {
   "cell_type": "code",
   "execution_count": null,
   "metadata": {},
   "outputs": [],
   "source": [
    "tasks = {}\n",
    "results = {}\n",
    "results[\"taskRes\"] = []\n",
    "command = '{\"execute\": \"guest-exec-status\", \"arguments\": {\"pid\": ****** } }'\n",
    "for i in range(0, len(parsed_data)-1, 2):\n",
    "    print(parsed_data[i], parsed_data[i+1])\n",
    "    pid_dict=json.loads(parsed_data[i+1])\n",
    "    pid=pid_dict[\"return\"][\"pid\"]\n",
    "    vmName=parsed_data[i]\n",
    "    os.environ['vm_name'] = vmName\n",
    "    os.environ['pid'] = pid\n",
    "    command = command.replace(\"******\", str(pid))\n",
    "    os.environ['command'] = command\n",
    "    print(vmName, command, pid)\n",
    "    rc = subprocess.call(\"./scripts/resultCheckScript.sh\")\n",
    "    result = {}\n",
    "    result[\"vmName\"] = vmName.rstrip('\\n')\n",
    "    data = file_reader(\"./scripts/tasksOutput.txt\")\n",
    "    print(data)\n",
    "    output = data[0].rstrip('\\n')\n",
    "    output = output[10:]\n",
    "    output = output[:-2]\n",
    "    try:\n",
    "        out = json.loads(output)\n",
    "    except:\n",
    "        output = output+\"}\"\n",
    "        out = json.loads(output)\n",
    "    a = out[\"out-data\"]\n",
    "    base64_message = a\n",
    "    base64_bytes = base64_message.encode('ascii')\n",
    "    message_bytes = base64.b64decode(base64_bytes)\n",
    "    message = message_bytes.decode('ascii')\n",
    "    output = message.split(\"\\n\")\n",
    "    starting_time = output[0].split(\" at \")[1]\n",
    "    ending_time = output[1].split(\" at \")[1]\n",
    "    result[\"output\"] = data[0].rstrip('\\n')\n",
    "    result[\"taskStartedAt\"] = starting_time\n",
    "    result[\"taskFinishedAt\"] = ending_time\n",
    "    results[\"taskRes\"].append(result)\n"
   ]
  },
  {
   "cell_type": "code",
   "execution_count": null,
   "metadata": {},
   "outputs": [],
   "source": [
    "with open(\"./scripts/results.json\", \"a\") as outfile:\n",
    "    json.dump(results, outfile)\n",
    "print(results)"
   ]
  }
 ],
 "metadata": {
  "kernelspec": {
   "display_name": "Python 3",
   "language": "python",
   "name": "python3"
  },
  "language_info": {
   "codemirror_mode": {
    "name": "ipython",
    "version": 3
   },
   "file_extension": ".py",
   "mimetype": "text/x-python",
   "name": "python",
   "nbconvert_exporter": "python",
   "pygments_lexer": "ipython3",
   "version": "3.10.6"
  },
  "orig_nbformat": 4
 },
 "nbformat": 4,
 "nbformat_minor": 2
}
